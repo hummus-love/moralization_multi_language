{
 "cells": [
  {
   "cell_type": "markdown",
   "metadata": {},
   "source": [
    "## Export:\n",
    "\n",
    "\n",
    "So far the only export I could get working"
   ]
  },
  {
   "cell_type": "code",
   "execution_count": null,
   "metadata": {},
   "outputs": [],
   "source": [
    "from cassis import load_typesystem, load_cas_from_xmi\n",
    "from collections import defaultdict\n",
    "import numpy as np\n",
    "import pandas as pd\n",
    "import matplotlib.pyplot as plt\n",
    "import seaborn as sns\n",
    "\n",
    "# Documentation for cassis\n",
    "# https://github.com/dkpro/dkpro-cassis\n",
    "\n",
    "\n",
    "# might be usefull:\n",
    "# https://spacy.io/api/textcategorizer\n",
    "# https://spacy.io/universe/project/classyclassification\n",
    "# https://stackoverflow.com/questions/62075223/how-to-improve-a-german-text-classification-model-in-spacy"
   ]
  },
  {
   "cell_type": "code",
   "execution_count": null,
   "metadata": {},
   "outputs": [],
   "source": [
    "# Here we load the filesystem and the actual annotated text file.\n",
    "# The file system includes all possible types that are configured in inception.\n",
    "# This should only need one file for the entire dataset.\n",
    "\n",
    "with open(\"../data/TypeSystem.xml\", \"rb\") as f:\n",
    "    ts = load_typesystem(f)\n",
    "\n",
    "with open(\"../data/Gerichtsurteile-pos-AW-neu-optimiert-BB.xmi\", \"rb\") as f:\n",
    "    cas = load_cas_from_xmi(f, typesystem=ts)"
   ]
  },
  {
   "cell_type": "code",
   "execution_count": null,
   "metadata": {},
   "outputs": [],
   "source": [
    "# report the entrys of the span categories:\n",
    "\n",
    "\n",
    "def report_span_cat(span):\n",
    "    return {\n",
    "        \"Protagonistinnen\": span.Protagonistinnen,\n",
    "        \"Protagonistinnen2\": span.Protagonistinnen2,\n",
    "        \"Protagonistinnen3\": span.Protagonistinnen3,\n",
    "        \"Forderung\": span.Forderung,\n",
    "        \"KAT1MoralisierendesSegment\": span.KAT1MoralisierendesSegment,\n",
    "        \"KAT2Subjektive_Ausdrcke\": span.KAT2Subjektive_Ausdrcke,\n",
    "        # span.KAT5Ausformulierung, # this seems to be single use comments\n",
    "        \"KOMMENTAR\": span.KOMMENTAR,\n",
    "        \"KommunikativeFunktion\": span.KommunikativeFunktion,\n",
    "        \"Moralwerte\": span.Moralwerte,\n",
    "    }"
   ]
  },
  {
   "cell_type": "code",
   "execution_count": null,
   "metadata": {},
   "outputs": [],
   "source": [
    "# select all custom Spans and store them in an ordered dict,\n",
    "# where the first dimension is the used inception category (Protagonistinnen, Forderung, etc...)\n",
    "# and the second dimension is the corresponding value of this category ('Forderer:in', 'Adresassat:in', 'Benefizient:in')\n",
    "# dict[category][entry value] = span\n",
    "def sort_spans(cas, ts):\n",
    "    span_type = ts.get_type(\"custom.Span\")\n",
    "    span_dict = defaultdict(lambda: defaultdict(list))\n",
    "    for span in cas.select(span_type.name):\n",
    "\n",
    "        for item_name, item_value in report_span_cat(span).items():\n",
    "            if item_value:\n",
    "                span_dict[item_name][item_value].append(span)\n",
    "\n",
    "    for span_dict_key, span_dict_sub_kat in span_dict.items():\n",
    "        print(f\"{span_dict_key}: {[key for key in span_dict_sub_kat.keys()]}\")\n",
    "    return span_dict"
   ]
  },
  {
   "cell_type": "code",
   "execution_count": null,
   "metadata": {},
   "outputs": [],
   "source": [
    "# find the overlaying category for an second dimension cat name\n",
    "def find_cat_from_str(cat_entry, span_dict):\n",
    "\n",
    "    for span_dict_key, span_dict_sub_kat in span_dict.items():\n",
    "        if cat_entry in span_dict_sub_kat.keys():\n",
    "            return span_dict_key"
   ]
  },
  {
   "cell_type": "code",
   "execution_count": null,
   "metadata": {},
   "outputs": [],
   "source": [
    "# get overlap%\n",
    "\n",
    "\n",
    "def get_overlap_percent(cat_1, cat_2, span_dict, ret_occ=False):\n",
    "    o_cat1 = find_cat_from_str(cat_1, span_dict)\n",
    "    o_cat2 = find_cat_from_str(cat_2, span_dict)\n",
    "\n",
    "    occurence = 0\n",
    "    total = 0\n",
    "    for span in span_dict[o_cat1][cat_1]:\n",
    "        total += 1\n",
    "        if report_span_cat(span)[o_cat2] == cat_2:\n",
    "            occurence += 1\n",
    "    if ret_occ:\n",
    "        return occurence, total\n",
    "    else:\n",
    "        return round(occurence / total, 7)"
   ]
  },
  {
   "cell_type": "code",
   "execution_count": null,
   "metadata": {},
   "outputs": [],
   "source": [
    "def get_percent_matrix(span_dict, cat_list=None):\n",
    "    if cat_list is None:\n",
    "        cat_list = []\n",
    "        for span_dict_key, span_dict_sub_kat in span_dict.items():\n",
    "            [cat_list.append(key) for key in span_dict_sub_kat.keys()]\n",
    "\n",
    "    percent_matrix = np.zeros((len(cat_list), len(cat_list)))\n",
    "    for i, cat1 in enumerate(cat_list):\n",
    "        for j, cat2 in enumerate(cat_list):\n",
    "            percent_matrix[i, j] = get_overlap_percent(cat1, cat2, span_dict)\n",
    "\n",
    "    df = pd.DataFrame(percent_matrix, index=cat_list)\n",
    "    df.columns = cat_list\n",
    "    return df"
   ]
  },
  {
   "cell_type": "code",
   "execution_count": null,
   "metadata": {},
   "outputs": [],
   "source": []
  },
  {
   "cell_type": "code",
   "execution_count": null,
   "metadata": {},
   "outputs": [],
   "source": [
    "span_dict = sort_spans(cas, ts)\n",
    "\n",
    "find_cat_from_str(\"Liberty\", span_dict)"
   ]
  },
  {
   "cell_type": "code",
   "execution_count": null,
   "metadata": {},
   "outputs": [],
   "source": [
    "get_overlap_percent(\"Forderer:in\", \"Neutral\", span_dict)"
   ]
  },
  {
   "cell_type": "code",
   "execution_count": null,
   "metadata": {},
   "outputs": [],
   "source": [
    "df = get_percent_matrix(span_dict)\n",
    "plt.figure(figsize=(16, 16))\n",
    "ax = sns.heatmap(df, cmap=\"cividis\")"
   ]
  },
  {
   "cell_type": "code",
   "execution_count": null,
   "metadata": {},
   "outputs": [],
   "source": [
    "df_small = get_percent_matrix(\n",
    "    span_dict,\n",
    "    [\n",
    "        \"Appell\",\n",
    "        \"Adresassat:in\",\n",
    "        \"Forderer:in\",\n",
    "        \"soziale Gruppe\",\n",
    "        \"Benefizient:in\",\n",
    "        \"Neutral\",\n",
    "        \"Institution\",\n",
    "        \"Expression\",\n",
    "    ],\n",
    ")\n",
    "plt.figure(figsize=(8, 8))\n",
    "ax = sns.heatmap(df_small, cmap=\"cividis\")"
   ]
  },
  {
   "cell_type": "code",
   "execution_count": null,
   "metadata": {},
   "outputs": [],
   "source": []
  }
 ],
 "metadata": {
  "kernelspec": {
   "display_name": "Python 3.9.13 ('moralization')",
   "language": "python",
   "name": "python3"
  },
  "language_info": {
   "codemirror_mode": {
    "name": "ipython",
    "version": 3
   },
   "file_extension": ".py",
   "mimetype": "text/x-python",
   "name": "python",
   "nbconvert_exporter": "python",
   "pygments_lexer": "ipython3",
   "version": "3.9.13"
  },
  "vscode": {
   "interpreter": {
    "hash": "eecdbd9102a8a153b703175e0caf5270cf41b05f4ed4e7eba6bc686781fa17e0"
   }
  }
 },
 "nbformat": 4,
 "nbformat_minor": 2
}
