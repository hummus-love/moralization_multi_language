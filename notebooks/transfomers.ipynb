{
 "cells": [
  {
   "cell_type": "markdown",
   "id": "8dae98cf",
   "metadata": {},
   "source": [
    "# Notebook for transformers exploration"
   ]
  },
  {
   "cell_type": "code",
   "execution_count": null,
   "id": "a8ec233e",
   "metadata": {},
   "outputs": [],
   "source": [
    "# flake8-noqa-cell\n",
    "import os\n",
    "import numpy as np\n",
    "import pandas as pd\n",
    "import matplotlib.pyplot as plt\n",
    "from moralization import input as inp\n",
    "from moralization import analyse as ae"
   ]
  },
  {
   "cell_type": "code",
   "execution_count": null,
   "id": "07f6415e",
   "metadata": {},
   "outputs": [],
   "source": [
    "!nvidia-smi"
   ]
  },
  {
   "cell_type": "code",
   "execution_count": null,
   "id": "120eff9f",
   "metadata": {},
   "outputs": [],
   "source": [
    "# flake8-noqa-cell\n",
    "raw_data_no_moralization = (\n",
    "    \"../../moralization-notes/Alle_bearbeiteten_Annotationen-0_label.csv\"\n",
    ")\n",
    "df_raw_no_moralization = pd.read_csv(raw_data_no_moralization)\n",
    "data_dict = inp.InputOutput.read_data(\"../data/Test_Data/XMI_11\")\n",
    "df_spans = ae.AnalyseOccurrence(data_dict, mode=\"spans\").df"
   ]
  },
  {
   "cell_type": "code",
   "execution_count": null,
   "id": "8f731cdc",
   "metadata": {},
   "outputs": [],
   "source": [
    "df_spans.head(10)"
   ]
  },
  {
   "cell_type": "code",
   "execution_count": null,
   "id": "ab9f9a47",
   "metadata": {},
   "outputs": [],
   "source": [
    "df_raw_no_moralization.head(10)"
   ]
  },
  {
   "cell_type": "code",
   "execution_count": null,
   "id": "e61b8256",
   "metadata": {},
   "outputs": [],
   "source": [
    "df_spans.loc[\"KAT1-Moralisierendes Segment\"]\n",
    "# all that are not \"Keine Moralisierung\" shall be \"Moralisierung\""
   ]
  },
  {
   "cell_type": "code",
   "execution_count": null,
   "id": "d247eb7e",
   "metadata": {},
   "outputs": [],
   "source": [
    "# flake8-noqa-cell\n",
    "df_new = df_spans.loc[[\"KAT1-Moralisierendes Segment\"]]\n",
    "# drop the multiindex\n",
    "df_new = df_new.droplevel(0)\n",
    "# sum strings over all sources\n",
    "df_new[\"All sources\"] = \"\"\n",
    "for file in df_new.columns[:-1]:\n",
    "    print(file)\n",
    "    df_new[\"All sources\"] += df_new[file] + \"###\"\n",
    "# extract row content into new dataframe\n",
    "# no moralization\n",
    "df_no_moralization = pd.DataFrame(\n",
    "    df_new[\"All sources\"].loc[\"Keine Moralisierung\"].split(\"###\"), columns=[\"Sentences\"]\n",
    ")\n",
    "# drop empty rows\n",
    "df_no_moralization = df_no_moralization[df_no_moralization[\"Sentences\"].astype(bool)]\n",
    "df_no_moralization[\"Label\"] = 0\n",
    "# moralization\n",
    "df_moralization = pd.DataFrame(\n",
    "    df_new[\"All sources\"].loc[\"Moralisierung\"].split(\"###\"), columns=[\"Sentences\"]\n",
    ")\n",
    "df_moralization = df_moralization[df_moralization[\"Sentences\"].astype(bool)]\n",
    "df_moralization[\"Label\"] = 1\n",
    "df_moralization_exp = pd.DataFrame(\n",
    "    df_new[\"All sources\"].loc[\"Moralisierung explizit\"].split(\"###\"),\n",
    "    columns=[\"Sentences\"],\n",
    ")\n",
    "df_moralization_exp = df_moralization_exp[df_moralization_exp[\"Sentences\"].astype(bool)]\n",
    "df_moralization_exp[\"Label\"] = 1\n",
    "df_moralization_int = pd.DataFrame(\n",
    "    df_new[\"All sources\"].loc[\"Moralisierung interpretativ\"].split(\"###\"),\n",
    "    columns=[\"Sentences\"],\n",
    ")\n",
    "df_moralization_int = df_moralization_int[df_moralization_int[\"Sentences\"].astype(bool)]\n",
    "df_moralization_int[\"Label\"] = 1\n",
    "df_new.to_csv(\"df_new.csv\")\n",
    "print(type(df_new))"
   ]
  },
  {
   "cell_type": "code",
   "execution_count": null,
   "id": "fafcccde",
   "metadata": {},
   "outputs": [],
   "source": [
    "df_new.head()"
   ]
  },
  {
   "cell_type": "code",
   "execution_count": null,
   "id": "fcfa65bc",
   "metadata": {},
   "outputs": [],
   "source": [
    "df_moralization_int.head()"
   ]
  },
  {
   "cell_type": "code",
   "execution_count": null,
   "id": "fd931b58",
   "metadata": {},
   "outputs": [],
   "source": []
  }
 ],
 "metadata": {
  "kernelspec": {
   "display_name": "Python 3 (ipykernel)",
   "language": "python",
   "name": "python3"
  },
  "language_info": {
   "codemirror_mode": {
    "name": "ipython",
    "version": 3
   },
   "file_extension": ".py",
   "mimetype": "text/x-python",
   "name": "python",
   "nbconvert_exporter": "python",
   "pygments_lexer": "ipython3",
   "version": "3.10.0"
  }
 },
 "nbformat": 4,
 "nbformat_minor": 5
}
