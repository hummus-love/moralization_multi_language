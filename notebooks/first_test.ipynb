{
 "cells": [
  {
   "cell_type": "markdown",
   "metadata": {},
   "source": [
    "## Export:\n",
    "\n",
    "\n",
    "So far the only export I could get working"
   ]
  },
  {
   "cell_type": "code",
   "execution_count": null,
   "metadata": {},
   "outputs": [],
   "source": [
    "from cassis import load_typesystem, load_cas_from_xmi\n",
    "\n",
    "# Documentation for cassis\n",
    "# https://github.com/dkpro/dkpro-cassis"
   ]
  },
  {
   "cell_type": "code",
   "execution_count": null,
   "metadata": {},
   "outputs": [],
   "source": [
    "# Here we load the filesystem and the actual annotated text file.\n",
    "# The file system includes all possible types that are configured in inception.\n",
    "# This should only need one file for the entire dataset.\n",
    "\n",
    "with open(\"TypeSystem.xml\", \"rb\") as f:\n",
    "    ts = load_typesystem(f)\n",
    "\n",
    "with open(\"inception_example.xmi\", \"rb\") as f:\n",
    "    cas = load_cas_from_xmi(f, typesystem=ts)"
   ]
  },
  {
   "cell_type": "code",
   "execution_count": null,
   "metadata": {},
   "outputs": [],
   "source": [
    "# In some examples select_all is used to get an overview over all annotation.\n",
    "# This seems to not work well with the default TypeSystem of Inception as there are many unused types which clutter the table.\n",
    "# cas.select_all()"
   ]
  },
  {
   "cell_type": "code",
   "execution_count": null,
   "metadata": {},
   "outputs": [],
   "source": [
    "# Here we can prepare some annotation types for later use. (This is optional, but can make handeling types easier.)\n",
    "custom_overlay_type = ts.get_type(\"webanno.custom.OverlayChunk\")\n",
    "default_inception_chunk = ts.get_type(\n",
    "    \"de.tudarmstadt.ukp.dkpro.core.api.syntax.type.chunk.Chunk\"\n",
    ")\n",
    "sentence_type = ts.get_type(\n",
    "    \"de.tudarmstadt.ukp.dkpro.core.api.segmentation.type.Sentence\"\n",
    ")"
   ]
  },
  {
   "cell_type": "code",
   "execution_count": null,
   "metadata": {},
   "outputs": [],
   "source": [
    "# with `sofa_string` we can view the original string.\n",
    "print(cas.sofa_string)"
   ]
  },
  {
   "cell_type": "code",
   "execution_count": null,
   "metadata": {},
   "outputs": [],
   "source": [
    "sentences = cas.select(sentence_type.name)\n",
    "for sentence in sentences:\n",
    "    print(\"Original sentence:\", sentence.get_covered_text())\n",
    "    print(\"Annotated format:\", sentence)"
   ]
  },
  {
   "cell_type": "markdown",
   "metadata": {},
   "source": [
    "I can't find a clean way of manually adding these annotations and the original sentence into a list of dict type object automatically.\n",
    "\n"
   ]
  },
  {
   "cell_type": "code",
   "execution_count": null,
   "metadata": {},
   "outputs": [],
   "source": [
    "default_chunks = cas.select(default_inception_chunk.name)\n",
    "for default_chunk in default_chunks:\n",
    "    print(\n",
    "        \"Original default_chunk: '\",\n",
    "        default_chunk.get_covered_text(),\n",
    "        \"' Chunk Value:\",\n",
    "        default_chunk.chunkValue,\n",
    "    )\n",
    "    print(\"Annotated format:\", default_chunks)"
   ]
  },
  {
   "cell_type": "code",
   "execution_count": null,
   "metadata": {},
   "outputs": [],
   "source": [
    "custom_overlay_chunks = cas.select(custom_overlay_type.name)\n",
    "for custom_overlay_chunk in custom_overlay_chunks:\n",
    "    print(\n",
    "        \"Original custom_overlay_chunks: '\",\n",
    "        custom_overlay_chunk.get_covered_text(),\n",
    "        \"' Tag:\",\n",
    "        custom_overlay_chunk.Tag,\n",
    "    )\n",
    "    print(\"Annotated format:\", custom_overlay_chunk)"
   ]
  },
  {
   "cell_type": "code",
   "execution_count": null,
   "metadata": {},
   "outputs": [],
   "source": []
  }
 ],
 "metadata": {
  "kernelspec": {
   "display_name": "Python 3.8.13 ('moralization')",
   "language": "python",
   "name": "python3"
  },
  "language_info": {
   "codemirror_mode": {
    "name": "ipython",
    "version": 3
   },
   "file_extension": ".py",
   "mimetype": "text/x-python",
   "name": "python",
   "nbconvert_exporter": "python",
   "pygments_lexer": "ipython3",
   "version": "3.8.13"
  },
  "vscode": {
   "interpreter": {
    "hash": "eecdbd9102a8a153b703175e0caf5270cf41b05f4ed4e7eba6bc686781fa17e0"
   }
  }
 },
 "nbformat": 4,
 "nbformat_minor": 2
}
