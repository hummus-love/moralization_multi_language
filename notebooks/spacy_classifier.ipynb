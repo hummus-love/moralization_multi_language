{
 "cells": [
  {
   "cell_type": "code",
   "execution_count": null,
   "metadata": {},
   "outputs": [],
   "source": [
    "import moralization as mn"
   ]
  },
  {
   "cell_type": "code",
   "execution_count": null,
   "metadata": {},
   "outputs": [],
   "source": [
    "# spacy_model = mn.Machine_Learning(\n",
    "#     \"../../moralization_data/Test_Data/\", config_file=\"base_config_cpu.cfg\"\n",
    "# )"
   ]
  },
  {
   "cell_type": "code",
   "execution_count": null,
   "metadata": {},
   "outputs": [],
   "source": [
    "# spacy_model.train()"
   ]
  },
  {
   "cell_type": "code",
   "execution_count": null,
   "metadata": {},
   "outputs": [],
   "source": [
    "# spacy_model.evaluate()"
   ]
  },
  {
   "cell_type": "code",
   "execution_count": null,
   "metadata": {},
   "outputs": [],
   "source": [
    "# with the test dataset these results are useless.\n",
    "# So far I have not done a test to see if the full dataset yields something better.\n",
    "# spacy_model.test_model_with_string(\"Hilfe kommt nicht\")"
   ]
  },
  {
   "cell_type": "code",
   "execution_count": null,
   "metadata": {},
   "outputs": [],
   "source": [
    "data_dict = mn.InputOutput.get_input_dir(\"../../moralization_data/All_Data/XMI_11/\")"
   ]
  },
  {
   "cell_type": "code",
   "execution_count": null,
   "metadata": {},
   "outputs": [],
   "source": [
    "df_spans = mn.analyse.AnalyseOccurrence(data_dict, mode=\"spans\").df"
   ]
  },
  {
   "cell_type": "code",
   "execution_count": null,
   "metadata": {},
   "outputs": [],
   "source": [
    "import spacy\n",
    "from spacy.matcher import Matcher"
   ]
  },
  {
   "cell_type": "code",
   "execution_count": null,
   "metadata": {},
   "outputs": [],
   "source": [
    "nlp = spacy.load(\"de_core_news_sm\")\n",
    "matcher = Matcher(nlp.vocab)"
   ]
  },
  {
   "cell_type": "code",
   "execution_count": null,
   "metadata": {},
   "outputs": [],
   "source": [
    "test_col = df_spans.pop(\"Kommentare-neg-RR-neu-optimiert-CK\")"
   ]
  },
  {
   "cell_type": "code",
   "execution_count": null,
   "metadata": {},
   "outputs": [],
   "source": [
    "for id in df_spans.index:\n",
    "    # print(id[1])\n",
    "    for column in df_spans.columns:\n",
    "\n",
    "        if df_spans[column].loc[id]:\n",
    "\n",
    "            for string in df_spans[column].loc[id].split(\"&\"):\n",
    "                pattern = []\n",
    "                if string.strip():\n",
    "                    # try:\n",
    "                    for word in string.split(\" \"):\n",
    "                        if word.strip():\n",
    "                            pattern.append({\"LOWER\": word.lower()})\n",
    "\n",
    "                    matcher.add(id[1], [pattern])\n",
    "                # except:\n",
    "                #     print(string)\n",
    "                #     print(\"except\")"
   ]
  },
  {
   "cell_type": "code",
   "execution_count": null,
   "metadata": {},
   "outputs": [],
   "source": [
    "data"
   ]
  },
  {
   "cell_type": "code",
   "execution_count": null,
   "metadata": {},
   "outputs": [],
   "source": [
    "nlp = spacy.load(\"de_core_news_sm\")"
   ]
  },
  {
   "cell_type": "code",
   "execution_count": null,
   "metadata": {},
   "outputs": [],
   "source": [
    "# according to the spacy documentation this should, unfortunatly\n",
    "# the documentation has not been updated to spacy 3.x.x...\n",
    "# https://stackoverflow.com/questions/66790649/textcat-architecture-extra-fields-not-permitted\n",
    "# textcat = nlp.create_pipe('textcat', config={\"exclusive_classes\": False,\n",
    "# \"architecture\": 'simple_cnn'})"
   ]
  },
  {
   "cell_type": "code",
   "execution_count": null,
   "metadata": {},
   "outputs": [],
   "source": [
    "# new approach\n",
    "textcat = nlp.add_pipe(\"textcat\")"
   ]
  },
  {
   "cell_type": "code",
   "execution_count": null,
   "metadata": {},
   "outputs": [],
   "source": [
    "nlp.pipe_names"
   ]
  },
  {
   "cell_type": "code",
   "execution_count": null,
   "metadata": {},
   "outputs": [],
   "source": [
    "textcat.add_label(\"positiv\")\n",
    "textcat.add_label(\"negativ\")"
   ]
  },
  {
   "cell_type": "code",
   "execution_count": null,
   "metadata": {},
   "outputs": [],
   "source": [
    "pipe_exceptions = [\"textcat\"]\n",
    "other_pipes = [pipe for pipe in nlp.pipe_names if pipe not in pipe_exceptions]"
   ]
  },
  {
   "cell_type": "code",
   "execution_count": null,
   "metadata": {},
   "outputs": [],
   "source": [
    "# I also think that this should work without issues..\n",
    "with nlp.disable_pipes(*other_pipes):\n",
    "    optimizer = nlp.begin_training()"
    "doc = nlp(\n",
    "    \"Schauen wir mal ob hier was positives raus kommt, Arbeitslosengeld ist zu gering\"\n",
    ")\n",
    "for string in test_col.values:\n",
    "    doc = nlp(string)\n",
    "    matches = matcher(doc)\n",
    "    for match_id, start, end in matches:\n",
    "        string_id = nlp.vocab.strings[match_id]  # Get string representation\n",
    "        span = doc[start:end]  # The matched span\n",
    "        print(match_id, string_id, start, end, span.text)"
   ]
  },
  {
   "cell_type": "code",
   "execution_count": null,
   "metadata": {},
   "outputs": [],
   "source": []
  }
 ],
 "metadata": {
  "kernelspec": {
   "display_name": "Python 3.10.6 ('moralization')",
   "language": "python",
   "name": "python3"
  },
  "language_info": {
   "codemirror_mode": {
    "name": "ipython",
    "version": 3
   },
   "file_extension": ".py",
   "mimetype": "text/x-python",
   "name": "python",
   "nbconvert_exporter": "python",
   "pygments_lexer": "ipython3",
   "version": "3.10.6"
  },
  "vscode": {
   "interpreter": {
    "hash": "206b6e1c37b5509acd96dbd9449245ce9632a6e2644564bceeab9a4a651ddaa0"
   }
  }
 },
 "nbformat": 4,
 "nbformat_minor": 2
}
