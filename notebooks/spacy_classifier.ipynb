{
 "cells": [
  {
   "cell_type": "code",
   "execution_count": null,
   "metadata": {},
   "outputs": [],
   "source": [
    "from cassis import (\n",
    "    load_typesystem,\n",
    "    load_cas_from_xmi,\n",
    ")\n",
    "\n",
    "# ####\n",
    "import moralization.input as mninp\n",
    "import moralization.analyse as mnae\n",
    "import moralization.machine_learning as mnml\n",
    "import spacy"
   ]
  },
  {
   "cell_type": "markdown",
   "metadata": {},
   "source": [
    "When using the test data the model is quite bad.\n",
    "The full data takes abound 10-20 minutes to complete."
   ]
  },
  {
   "cell_type": "code",
   "execution_count": null,
   "metadata": {},
   "outputs": [],
   "source": [
    "data_dict = mninp.InputOutput.read_data(\"../data/Test_Data/XMI_11/\")\n",
    "df_spans = mnae.AnalyseOccurrence(data_dict, mode=\"spans\").df\n",
    "df_spans.head()"
   ]
  },
  {
   "cell_type": "code",
   "execution_count": null,
   "metadata": {},
   "outputs": [],
   "source": [
    "with open(\"TypeSystem.xml\", \"rb\") as f:\n",
    "    ts = load_typesystem(f)\n",
    "\n",
    "with open(\"test_text.xmi\", \"rb\") as f:\n",
    "    cas = load_cas_from_xmi(f, typesystem=ts)\n",
    "    # ####\n",
    "    classifier = mnml.Binary_Few_Shot_Classifier(\n",
    "        df_spans,\n",
    "        model_origin=\"huggingface\",\n",
    "        model=\"Sahajtomar/German_Zeroshot\",\n",
    "    )"
   ]
  },
  {
   "cell_type": "code",
   "execution_count": null,
   "metadata": {},
   "outputs": [],
   "source": [
    "custom_overlay_type = ts.get_type(\"webanno.custom.OverlayChunk\")"
   ]
  },
  {
   "cell_type": "code",
   "execution_count": null,
   "metadata": {},
   "outputs": [],
   "source": [
    "sentence_type = ts.get_type(\n",
    "    \"de.tudarmstadt.ukp.dkpro.core.api.segmentation.type.Sentence\"\n",
    ")\n",
    "# ####\n",
    "classifier.apply_model([\"Dies ist ein Test\", \"Und noch ein böser Test\"])"
   ]
  },
  {
   "cell_type": "code",
   "execution_count": null,
   "metadata": {},
   "outputs": [],
   "source": [
    "scores = classifier.validate_model()\n",
    "scores"
   ]
  },
  {
   "cell_type": "code",
   "execution_count": null,
   "metadata": {},
   "outputs": [],
   "source": [
    "df = classifier.validate_model(return_df=True)\n",
    "df"
   ]
  },
  {
   "cell_type": "code",
   "execution_count": null,
   "metadata": {},
   "outputs": [],
   "source": [
    "classifier.save_model(\"test\")"
   ]
  },
  {
   "cell_type": "code",
   "execution_count": null,
   "metadata": {},
   "outputs": [],
   "source": [
    "data = {}\n",
    "\n",
    "custom_overlay_chunks = cas.select(custom_overlay_type.name)\n",
    "for custom_overlay_chunk in custom_overlay_chunks:\n",
    "    data[custom_overlay_chunk.Tag] = custom_overlay_chunk.get_covered_text()\n",
    "    # ####\n",
    "    classifier_prepared = mnml.Few_Shot_Classifier(\"./test.pkl\")"
   ]
  },
  {
   "cell_type": "code",
   "execution_count": null,
   "metadata": {},
   "outputs": [],
   "source": [
    "!python -m spacy download de_core_news_sm"
   ]
  },
  {
   "cell_type": "code",
   "execution_count": null,
   "metadata": {},
   "outputs": [],
   "source": [
    "nlp = spacy.load(\"de_core_news_sm\")"
   ]
  },
  {
   "cell_type": "code",
   "execution_count": null,
   "metadata": {},
   "outputs": [],
   "source": [
    "# according to the spacy documentation this should, unfortunatly\n",
    "# the documentation has not been updated to spacy 3.x.x...\n",
    "# https://stackoverflow.com/questions/66790649/textcat-architecture-extra-fields-not-permitted\n",
    "# textcat = nlp.create_pipe('textcat', config={\"exclusive_classes\": False,\n",
    "# \"architecture\": 'simple_cnn'})"
   ]
  },
  {
   "cell_type": "code",
   "execution_count": null,
   "metadata": {},
   "outputs": [],
   "source": [
    "# new approach\n",
    "textcat = nlp.add_pipe(\"textcat\")"
   ]
  },
  {
   "cell_type": "code",
   "execution_count": null,
   "metadata": {},
   "outputs": [],
   "source": [
    "nlp.pipe_names"
   ]
  },
  {
   "cell_type": "code",
   "execution_count": null,
   "metadata": {},
   "outputs": [],
   "source": [
    "textcat.add_label(\"positiv\")\n",
    "textcat.add_label(\"negativ\")"
   ]
  },
  {
   "cell_type": "code",
   "execution_count": null,
   "metadata": {},
   "outputs": [],
   "source": [
    "pipe_exceptions = [\"textcat\"]\n",
    "other_pipes = [pipe for pipe in nlp.pipe_names if pipe not in pipe_exceptions]"
   ]
  },
  {
   "cell_type": "code",
   "execution_count": null,
   "metadata": {},
   "outputs": [],
   "source": [
    "# flake8-noqa-cell\n",
    "# I also think that this should work without issues..\n",
    "with nlp.disable_pipes(*other_pipes):\n",
    "    optimizer = nlp.begin_training()\n",
    "    # ####\n",
    "    optimizer = nlp.begin_training()\n",
    "\n",
    "for string in test_col.values:\n",
    "    doc = nlp(string)\n",
    "    matches = matcher(doc)\n",
    "    for match_id, start, end in matches:\n",
    "        string_id = nlp.vocab.strings[match_id]  # Get string representation\n",
    "        span = doc[start:end]  # The matched span\n",
    "        print(match_id, string_id, start, end, span.text)\n",
    "classifier_prepared.apply_model(\"Dies ist ein Test\")"
   ]
  },
  {
   "cell_type": "code",
   "execution_count": null,
   "metadata": {},
   "outputs": [],
   "source": []
  }
 ],
 "metadata": {
  "kernelspec": {
   "display_name": "Python 3 (ipykernel)",
   "language": "python",
   "name": "python3"
  },
  "language_info": {
   "codemirror_mode": {
    "name": "ipython",
    "version": 3
   },
   "file_extension": ".py",
   "mimetype": "text/x-python",
   "name": "python",
   "nbconvert_exporter": "python",
   "pygments_lexer": "ipython3",
   "version": "3.10.0"
  },
  "vscode": {
   "interpreter": {
    "hash": "206b6e1c37b5509acd96dbd9449245ce9632a6e2644564bceeab9a4a651ddaa0"
   }
  }
 },
 "nbformat": 4,
 "nbformat_minor": 2
}
