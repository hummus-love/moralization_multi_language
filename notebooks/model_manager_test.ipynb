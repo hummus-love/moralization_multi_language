{
 "cells": [
  {
   "cell_type": "markdown",
   "id": "55e83a27",
   "metadata": {},
   "source": [
    "# ModelManager example notebook"
   ]
  },
  {
   "cell_type": "code",
   "execution_count": null,
   "id": "f7ce3ad0",
   "metadata": {},
   "outputs": [],
   "source": [
    "from moralization.data_manager import DataManager\n",
    "from moralization.model_manager import ModelManager"
   ]
  },
  {
   "cell_type": "markdown",
   "id": "a0aa6775",
   "metadata": {},
   "source": [
    "### Create & train a spacy model using DataManager\n",
    "\n",
    "This saves the trained model to the folder `test_model/output/model-last`"
   ]
  },
  {
   "cell_type": "code",
   "execution_count": null,
   "id": "44031c8d",
   "metadata": {},
   "outputs": [],
   "source": [
    "data_manager = DataManager(\"../moralization/data/\")\n",
    "data_manager.export_data_DocBin()\n",
    "data_manager.spacy_train(working_dir=\"test_model\", config=\"../moralization/data/config.cfg\", n_epochs=20)"
   ]
  },
  {
   "cell_type": "markdown",
   "id": "a988aa6b",
   "metadata": {},
   "source": [
    "### Import spacy model using ModelManager"
   ]
  },
  {
   "cell_type": "code",
   "execution_count": null,
   "id": "0ec9f981",
   "metadata": {},
   "outputs": [],
   "source": [
    "model = ModelManager(\"test_model/output/model-best\")"
   ]
  },
  {
   "cell_type": "markdown",
   "id": "e6cb68cb",
   "metadata": {},
   "source": [
    "### Set metadata\n",
    "\n",
    "- Initally empty apart from default `pipeline` name and `0.0.0` version\n",
    "- This metadata will be used to generate the Model Card on hugging face"
   ]
  },
  {
   "cell_type": "code",
   "execution_count": null,
   "id": "3769b760",
   "metadata": {},
   "outputs": [],
   "source": [
    "model.metadata"
   ]
  },
  {
   "cell_type": "code",
   "execution_count": null,
   "id": "9701fcdb",
   "metadata": {},
   "outputs": [],
   "source": [
    "model.metadata[\"name\"] = \"test_pipeline\"\n",
    "model.metadata[\"version\"] = \"0.1.0\"\n",
    "model.metadata[\"description\"] = \"A test pipeline for ModelManager testing purposes\"\n",
    "model.metadata[\"author\"] = \"Liam Keegan\"\n",
    "model.metadata[\"email\"] = \"liam@keegan.ch\"\n",
    "model.metadata[\"license\"] = \"MIT\""
   ]
  },
  {
   "cell_type": "code",
   "execution_count": null,
   "id": "961d1d2f",
   "metadata": {},
   "outputs": [],
   "source": [
    "model.metadata"
   ]
  },
  {
   "cell_type": "markdown",
   "id": "f1c99e30",
   "metadata": {},
   "source": [
    "### Publish model to hugging-face\n",
    "\n",
    "- This requires a hugging-face [User Access Token](https://huggingface.co/docs/hub/security-tokens)\n",
    "- You can export this to the `HUGGING_FACE_TOKEN` environment variable and just call `publish()`\n",
    "- Or directly pass the token with `publish(hugging_face_token=\"abc123\")`"
   ]
  },
  {
   "cell_type": "code",
   "execution_count": null,
   "id": "18b270dd",
   "metadata": {},
   "outputs": [],
   "source": [
    "urls = model.publish()"
   ]
  },
  {
   "cell_type": "code",
   "execution_count": null,
   "id": "2f36af3f",
   "metadata": {},
   "outputs": [],
   "source": [
    "urls"
   ]
  },
  {
   "cell_type": "code",
   "execution_count": null,
   "id": "7de852ba",
   "metadata": {},
   "outputs": [],
   "source": []
  }
 ],
 "metadata": {
  "kernelspec": {
   "display_name": "Python 3 (ipykernel)",
   "language": "python",
   "name": "python3"
  },
  "language_info": {
   "codemirror_mode": {
    "name": "ipython",
    "version": 3
   },
   "file_extension": ".py",
   "mimetype": "text/x-python",
   "name": "python",
   "nbconvert_exporter": "python",
   "pygments_lexer": "ipython3",
   "version": "3.10.10"
  }
 },
 "nbformat": 4,
 "nbformat_minor": 5
}
